{
 "cells": [
  {
   "cell_type": "markdown",
   "metadata": {},
   "source": [
    "# Neural Networks"
   ]
  },
  {
   "cell_type": "markdown",
   "metadata": {},
   "source": [
    "## Convoluted neural network\n",
    "\n",
    "Al algorithm used to classify images."
   ]
  },
  {
   "cell_type": "code",
   "execution_count": 1,
   "metadata": {},
   "outputs": [],
   "source": [
    "###############\n",
    "### Imports ###\n",
    "###############\n",
    "\n",
    "import numpy as np\n",
    "import matplotlib.pyplot as plt\n",
    "import tensorflow as tf\n",
    "from keras.models import Sequential\n",
    "from keras.layers import Dense, Conv2D, Flatten, MaxPooling2D, Dropout\n",
    "from keras.preprocessing.image import ImageDataGenerator\n",
    "from keras.models import Sequential\n",
    "from keras.callbacks import EarlyStopping"
   ]
  },
  {
   "cell_type": "code",
   "execution_count": 2,
   "metadata": {},
   "outputs": [
    {
     "name": "stdout",
     "output_type": "stream",
     "text": [
      "[PhysicalDevice(name='/physical_device:CPU:0', device_type='CPU'), PhysicalDevice(name='/physical_device:GPU:0', device_type='GPU')]\n"
     ]
    }
   ],
   "source": [
    "train_dir = '../Data/train'\n",
    "test_dir = '../Data/test'\n",
    "print(tf.config.get_visible_devices())"
   ]
  },
  {
   "cell_type": "code",
   "execution_count": 3,
   "metadata": {},
   "outputs": [
    {
     "name": "stdout",
     "output_type": "stream",
     "text": [
      "Found 12495 images belonging to 3 classes.\n",
      "Found 2205 images belonging to 3 classes.\n"
     ]
    }
   ],
   "source": [
    "batch_size = 16\n",
    "\n",
    "train_datagen = ImageDataGenerator(rescale=1./255,                   \n",
    "                                   validation_split=0.15)\n",
    "\n",
    "train_generator = train_datagen.flow_from_directory(\n",
    "train_dir, \n",
    "target_size=(102,136), \n",
    "color_mode='rgb', \n",
    "batch_size=batch_size, \n",
    "class_mode='categorical', \n",
    "subset='training',\n",
    "shuffle=True,\n",
    "seed=42\n",
    ")\n",
    "validation_generator = train_datagen.flow_from_directory(\n",
    "train_dir,\n",
    "target_size=(102,136), \n",
    "color_mode='rgb', \n",
    "batch_size=batch_size, \n",
    "class_mode='categorical', \n",
    "subset='validation', \n",
    "shuffle=False\n",
    ")"
   ]
  },
  {
   "cell_type": "code",
   "execution_count": 4,
   "metadata": {},
   "outputs": [
    {
     "name": "stdout",
     "output_type": "stream",
     "text": [
      "Found 300 images belonging to 3 classes.\n"
     ]
    }
   ],
   "source": [
    "test_generator = ImageDataGenerator(rescale=1./255).flow_from_directory(\n",
    "test_dir,\n",
    "target_size=(102,136), \n",
    "color_mode='rgb', \n",
    "batch_size=batch_size, \n",
    "class_mode=None, \n",
    "shuffle=False\n",
    ")"
   ]
  },
  {
   "cell_type": "code",
   "execution_count": 5,
   "metadata": {},
   "outputs": [
    {
     "name": "stdout",
     "output_type": "stream",
     "text": [
      "Model: \"sequential\"\n",
      "_________________________________________________________________\n",
      " Layer (type)                Output Shape              Param #   \n",
      "=================================================================\n",
      " conv2d (Conv2D)             (None, 100, 134, 102)     2856      \n",
      "                                                                 \n",
      " max_pooling2d (MaxPooling2D  (None, 50, 67, 102)      0         \n",
      " )                                                               \n",
      "                                                                 \n",
      " conv2d_1 (Conv2D)           (None, 46, 63, 64)        163264    \n",
      "                                                                 \n",
      " max_pooling2d_1 (MaxPooling  (None, 23, 31, 64)       0         \n",
      " 2D)                                                             \n",
      "                                                                 \n",
      " flatten (Flatten)           (None, 45632)             0         \n",
      "                                                                 \n",
      " dense (Dense)               (None, 16)                730128    \n",
      "                                                                 \n",
      " dropout (Dropout)           (None, 16)                0         \n",
      "                                                                 \n",
      " dense_1 (Dense)             (None, 3)                 51        \n",
      "                                                                 \n",
      "=================================================================\n",
      "Total params: 896,299\n",
      "Trainable params: 896,299\n",
      "Non-trainable params: 0\n",
      "_________________________________________________________________\n"
     ]
    }
   ],
   "source": [
    "model = Sequential()\n",
    "model.add(Conv2D(102, kernel_size = (3,3), activation='relu',input_shape=(102,136,3)))\n",
    "model.add(MaxPooling2D(2,2))\n",
    "model.add(Conv2D(64, kernel_size = (5,5), activation='relu'))\n",
    "model.add(MaxPooling2D(2,2))\n",
    "model.add(Flatten())\n",
    "model.add(Dense(16, kernel_regularizer='l2'))\n",
    "model.add(Dropout(0.1))\n",
    "model.add(Dense(3, activation='softmax'))\n",
    "            \n",
    "model.compile(loss='categorical_crossentropy',\n",
    "              optimizer='adam',\n",
    "              metrics=['accuracy'])\n",
    "\n",
    "model.summary()\n"
   ]
  },
  {
   "cell_type": "code",
   "execution_count": 6,
   "metadata": {},
   "outputs": [
    {
     "name": "stdout",
     "output_type": "stream",
     "text": [
      "Epoch 1/100\n",
      "100/100 [==============================] - 4s 24ms/step - loss: 1.0762 - accuracy: 0.6781 - val_loss: 0.2943 - val_accuracy: 0.9750\n",
      "Epoch 2/100\n",
      "100/100 [==============================] - 2s 22ms/step - loss: 0.5854 - accuracy: 0.8181 - val_loss: 0.2279 - val_accuracy: 0.9500\n",
      "Epoch 3/100\n",
      "100/100 [==============================] - 2s 22ms/step - loss: 0.4869 - accuracy: 0.8456 - val_loss: 0.3194 - val_accuracy: 0.9125\n",
      "Epoch 4/100\n",
      "100/100 [==============================] - 2s 21ms/step - loss: 0.4308 - accuracy: 0.8512 - val_loss: 0.2687 - val_accuracy: 0.9187\n",
      "Epoch 5/100\n",
      "100/100 [==============================] - 2s 22ms/step - loss: 0.4001 - accuracy: 0.8625 - val_loss: 0.2182 - val_accuracy: 0.9438\n",
      "Epoch 6/100\n",
      "100/100 [==============================] - 2s 21ms/step - loss: 0.3959 - accuracy: 0.8744 - val_loss: 0.1772 - val_accuracy: 0.9563\n",
      "Epoch 7/100\n",
      "100/100 [==============================] - 2s 21ms/step - loss: 0.3938 - accuracy: 0.8781 - val_loss: 0.4119 - val_accuracy: 0.8687\n",
      "Epoch 8/100\n",
      "100/100 [==============================] - 2s 22ms/step - loss: 0.3512 - accuracy: 0.8813 - val_loss: 0.2987 - val_accuracy: 0.9187\n",
      "Epoch 9/100\n",
      "100/100 [==============================] - 2s 21ms/step - loss: 0.3727 - accuracy: 0.8831 - val_loss: 0.2146 - val_accuracy: 0.9500\n",
      "Epoch 10/100\n",
      "100/100 [==============================] - 2s 22ms/step - loss: 0.3418 - accuracy: 0.8919 - val_loss: 0.2718 - val_accuracy: 0.9250\n",
      "Epoch 11/100\n",
      "100/100 [==============================] - 2s 22ms/step - loss: 0.3007 - accuracy: 0.9156 - val_loss: 0.1473 - val_accuracy: 0.9625\n",
      "Epoch 12/100\n",
      "100/100 [==============================] - 2s 22ms/step - loss: 0.3306 - accuracy: 0.8988 - val_loss: 0.1512 - val_accuracy: 0.9688\n",
      "Epoch 13/100\n",
      "100/100 [==============================] - 2s 22ms/step - loss: 0.3343 - accuracy: 0.9050 - val_loss: 0.2910 - val_accuracy: 0.9375\n",
      "Epoch 14/100\n",
      "100/100 [==============================] - 2s 22ms/step - loss: 0.3404 - accuracy: 0.9031 - val_loss: 0.1886 - val_accuracy: 0.9688\n",
      "Epoch 15/100\n",
      "100/100 [==============================] - 2s 21ms/step - loss: 0.3057 - accuracy: 0.9156 - val_loss: 0.2632 - val_accuracy: 0.9062\n",
      "Epoch 16/100\n",
      "100/100 [==============================] - 2s 22ms/step - loss: 0.3207 - accuracy: 0.9162 - val_loss: 0.1840 - val_accuracy: 0.9625\n",
      "Epoch 17/100\n",
      "100/100 [==============================] - 2s 22ms/step - loss: 0.3091 - accuracy: 0.9156 - val_loss: 0.2078 - val_accuracy: 0.9563\n",
      "Epoch 18/100\n",
      "100/100 [==============================] - 2s 21ms/step - loss: 0.2900 - accuracy: 0.9269 - val_loss: 0.2262 - val_accuracy: 0.9375\n",
      "Epoch 19/100\n",
      "100/100 [==============================] - 2s 21ms/step - loss: 0.2524 - accuracy: 0.9400 - val_loss: 0.1859 - val_accuracy: 0.9500\n",
      "Epoch 20/100\n",
      "100/100 [==============================] - 2s 22ms/step - loss: 0.2818 - accuracy: 0.9269 - val_loss: 0.2440 - val_accuracy: 0.9375\n",
      "Epoch 21/100\n",
      "100/100 [==============================] - 2s 22ms/step - loss: 0.2535 - accuracy: 0.9300 - val_loss: 0.1608 - val_accuracy: 0.9812\n",
      "Epoch 22/100\n",
      "100/100 [==============================] - 2s 21ms/step - loss: 0.2790 - accuracy: 0.9200 - val_loss: 0.1857 - val_accuracy: 0.9563\n",
      "Epoch 23/100\n",
      "100/100 [==============================] - 2s 22ms/step - loss: 0.2716 - accuracy: 0.9325 - val_loss: 0.1839 - val_accuracy: 0.9500\n",
      "Epoch 24/100\n",
      "100/100 [==============================] - 2s 22ms/step - loss: 0.2216 - accuracy: 0.9475 - val_loss: 0.1903 - val_accuracy: 0.9312\n",
      "Epoch 25/100\n",
      "100/100 [==============================] - 2s 21ms/step - loss: 0.2820 - accuracy: 0.9281 - val_loss: 0.2958 - val_accuracy: 0.9187\n",
      "Epoch 26/100\n",
      "100/100 [==============================] - 2s 21ms/step - loss: 0.2462 - accuracy: 0.9381 - val_loss: 0.1312 - val_accuracy: 0.9750\n",
      "Epoch 27/100\n",
      "100/100 [==============================] - 2s 22ms/step - loss: 0.2560 - accuracy: 0.9319 - val_loss: 0.1186 - val_accuracy: 0.9750\n",
      "Epoch 28/100\n",
      "100/100 [==============================] - 2s 21ms/step - loss: 0.2600 - accuracy: 0.9356 - val_loss: 0.1490 - val_accuracy: 0.9688\n",
      "Epoch 29/100\n",
      "100/100 [==============================] - 2s 25ms/step - loss: 0.2159 - accuracy: 0.9443 - val_loss: 0.1034 - val_accuracy: 0.9812\n",
      "Epoch 30/100\n",
      "100/100 [==============================] - 2s 21ms/step - loss: 0.2261 - accuracy: 0.9456 - val_loss: 0.1867 - val_accuracy: 0.9563\n",
      "Epoch 31/100\n",
      "100/100 [==============================] - 2s 22ms/step - loss: 0.2453 - accuracy: 0.9419 - val_loss: 0.1504 - val_accuracy: 0.9688\n",
      "Epoch 32/100\n",
      "100/100 [==============================] - 2s 21ms/step - loss: 0.2178 - accuracy: 0.9494 - val_loss: 0.1551 - val_accuracy: 0.9812\n",
      "Epoch 33/100\n",
      "100/100 [==============================] - 2s 21ms/step - loss: 0.2509 - accuracy: 0.9319 - val_loss: 0.2514 - val_accuracy: 0.9500\n",
      "Epoch 34/100\n",
      "100/100 [==============================] - 2s 22ms/step - loss: 0.1963 - accuracy: 0.9550 - val_loss: 0.0908 - val_accuracy: 0.9875\n",
      "Epoch 35/100\n",
      "100/100 [==============================] - 2s 21ms/step - loss: 0.2251 - accuracy: 0.9456 - val_loss: 0.1185 - val_accuracy: 0.9750\n",
      "Epoch 36/100\n",
      "100/100 [==============================] - 2s 21ms/step - loss: 0.2551 - accuracy: 0.9331 - val_loss: 0.1255 - val_accuracy: 0.9750\n",
      "Epoch 37/100\n",
      "100/100 [==============================] - 2s 21ms/step - loss: 0.2059 - accuracy: 0.9538 - val_loss: 0.1501 - val_accuracy: 0.9688\n",
      "Epoch 38/100\n",
      "100/100 [==============================] - 2s 22ms/step - loss: 0.2234 - accuracy: 0.9450 - val_loss: 0.1860 - val_accuracy: 0.9625\n",
      "Epoch 39/100\n",
      "100/100 [==============================] - 2s 22ms/step - loss: 0.2085 - accuracy: 0.9519 - val_loss: 0.4619 - val_accuracy: 0.8625\n",
      "Epoch 40/100\n",
      "100/100 [==============================] - 2s 22ms/step - loss: 0.2355 - accuracy: 0.9494 - val_loss: 0.1115 - val_accuracy: 0.9812\n",
      "Epoch 41/100\n",
      "100/100 [==============================] - 2s 21ms/step - loss: 0.1972 - accuracy: 0.9519 - val_loss: 0.1387 - val_accuracy: 0.9563\n",
      "Epoch 42/100\n",
      "100/100 [==============================] - 2s 22ms/step - loss: 0.2093 - accuracy: 0.9488 - val_loss: 0.0698 - val_accuracy: 0.9937\n",
      "Epoch 43/100\n",
      "100/100 [==============================] - 2s 21ms/step - loss: 0.2275 - accuracy: 0.9468 - val_loss: 0.1651 - val_accuracy: 0.9688\n",
      "Epoch 44/100\n",
      "100/100 [==============================] - 2s 21ms/step - loss: 0.2150 - accuracy: 0.9475 - val_loss: 0.1469 - val_accuracy: 0.9563\n",
      "Epoch 45/100\n",
      "100/100 [==============================] - 2s 22ms/step - loss: 0.2066 - accuracy: 0.9494 - val_loss: 0.1262 - val_accuracy: 0.9688\n",
      "Epoch 46/100\n",
      "100/100 [==============================] - 2s 21ms/step - loss: 0.2166 - accuracy: 0.9475 - val_loss: 0.1408 - val_accuracy: 0.9750\n",
      "Epoch 47/100\n",
      "100/100 [==============================] - 2s 21ms/step - loss: 0.2096 - accuracy: 0.9488 - val_loss: 0.1353 - val_accuracy: 0.9750\n",
      "Epoch 48/100\n",
      "100/100 [==============================] - 2s 22ms/step - loss: 0.2218 - accuracy: 0.9469 - val_loss: 0.1115 - val_accuracy: 0.9875\n",
      "Epoch 49/100\n",
      "100/100 [==============================] - 2s 22ms/step - loss: 0.2077 - accuracy: 0.9556 - val_loss: 0.1575 - val_accuracy: 0.9500\n",
      "Epoch 50/100\n",
      "100/100 [==============================] - 2s 21ms/step - loss: 0.1981 - accuracy: 0.9544 - val_loss: 0.0999 - val_accuracy: 0.9750\n",
      "Epoch 51/100\n",
      "100/100 [==============================] - 2s 21ms/step - loss: 0.2050 - accuracy: 0.9538 - val_loss: 0.1107 - val_accuracy: 0.9750\n",
      "Epoch 52/100\n",
      "100/100 [==============================] - 2s 22ms/step - loss: 0.2002 - accuracy: 0.9563 - val_loss: 0.1226 - val_accuracy: 0.9688\n",
      "Epoch 53/100\n",
      "100/100 [==============================] - 2s 21ms/step - loss: 0.1854 - accuracy: 0.9563 - val_loss: 0.2529 - val_accuracy: 0.9250\n",
      "Epoch 54/100\n",
      "100/100 [==============================] - 2s 22ms/step - loss: 0.1993 - accuracy: 0.9531 - val_loss: 0.1548 - val_accuracy: 0.9688\n",
      "Epoch 55/100\n",
      "100/100 [==============================] - 2s 21ms/step - loss: 0.2118 - accuracy: 0.9462 - val_loss: 0.1960 - val_accuracy: 0.9375\n",
      "Epoch 56/100\n",
      "100/100 [==============================] - 2s 21ms/step - loss: 0.2109 - accuracy: 0.9488 - val_loss: 0.1781 - val_accuracy: 0.9438\n",
      "Epoch 57/100\n",
      "100/100 [==============================] - 2s 21ms/step - loss: 0.1926 - accuracy: 0.9588 - val_loss: 0.1900 - val_accuracy: 0.9563\n",
      "Epoch 58/100\n",
      "100/100 [==============================] - 2s 21ms/step - loss: 0.2137 - accuracy: 0.9544 - val_loss: 0.2384 - val_accuracy: 0.9125\n",
      "Epoch 59/100\n",
      "100/100 [==============================] - 2s 21ms/step - loss: 0.2144 - accuracy: 0.9512 - val_loss: 0.0796 - val_accuracy: 0.9937\n",
      "Epoch 60/100\n",
      "100/100 [==============================] - 2s 22ms/step - loss: 0.2170 - accuracy: 0.9425 - val_loss: 0.1328 - val_accuracy: 0.9750\n",
      "Epoch 61/100\n",
      "100/100 [==============================] - 2s 21ms/step - loss: 0.2265 - accuracy: 0.9531 - val_loss: 0.2330 - val_accuracy: 0.9375\n",
      "Epoch 62/100\n",
      "100/100 [==============================] - 2s 22ms/step - loss: 0.1969 - accuracy: 0.9600 - val_loss: 0.1324 - val_accuracy: 0.9750\n",
      "Epoch 63/100\n",
      "100/100 [==============================] - 2s 21ms/step - loss: 0.2105 - accuracy: 0.9450 - val_loss: 0.1796 - val_accuracy: 0.9625\n",
      "Epoch 64/100\n",
      "100/100 [==============================] - 2s 21ms/step - loss: 0.2065 - accuracy: 0.9431 - val_loss: 0.1296 - val_accuracy: 0.9688\n",
      "Epoch 65/100\n",
      "100/100 [==============================] - 2s 21ms/step - loss: 0.1935 - accuracy: 0.9525 - val_loss: 0.2065 - val_accuracy: 0.9438\n",
      "Epoch 66/100\n",
      "100/100 [==============================] - 2s 22ms/step - loss: 0.2130 - accuracy: 0.9500 - val_loss: 0.3270 - val_accuracy: 0.9000\n",
      "Epoch 67/100\n",
      "100/100 [==============================] - 2s 21ms/step - loss: 0.1869 - accuracy: 0.9556 - val_loss: 0.1985 - val_accuracy: 0.9312\n",
      "Epoch 68/100\n",
      "100/100 [==============================] - 2s 22ms/step - loss: 0.2309 - accuracy: 0.9412 - val_loss: 0.1170 - val_accuracy: 0.9812\n",
      "Epoch 69/100\n",
      "100/100 [==============================] - 2s 21ms/step - loss: 0.2149 - accuracy: 0.9500 - val_loss: 0.1081 - val_accuracy: 0.9812\n",
      "Epoch 70/100\n",
      "100/100 [==============================] - 2s 22ms/step - loss: 0.1843 - accuracy: 0.9606 - val_loss: 0.2264 - val_accuracy: 0.9375\n",
      "Epoch 71/100\n",
      "100/100 [==============================] - 2s 21ms/step - loss: 0.1764 - accuracy: 0.9563 - val_loss: 0.2482 - val_accuracy: 0.9312\n",
      "Epoch 72/100\n",
      "100/100 [==============================] - 2s 22ms/step - loss: 0.2071 - accuracy: 0.9475 - val_loss: 0.1780 - val_accuracy: 0.9750\n",
      "Epoch 73/100\n",
      "100/100 [==============================] - 2s 21ms/step - loss: 0.2359 - accuracy: 0.9413 - val_loss: 0.1325 - val_accuracy: 0.9750\n",
      "Epoch 74/100\n",
      "100/100 [==============================] - 2s 21ms/step - loss: 0.1639 - accuracy: 0.9688 - val_loss: 0.2355 - val_accuracy: 0.9312\n",
      "Epoch 75/100\n",
      "100/100 [==============================] - 2s 21ms/step - loss: 0.1608 - accuracy: 0.9656 - val_loss: 0.2387 - val_accuracy: 0.9312\n",
      "Epoch 76/100\n",
      "100/100 [==============================] - 2s 21ms/step - loss: 0.1957 - accuracy: 0.9531 - val_loss: 0.1833 - val_accuracy: 0.9500\n",
      "Epoch 77/100\n",
      "100/100 [==============================] - 2s 22ms/step - loss: 0.2262 - accuracy: 0.9444 - val_loss: 0.3549 - val_accuracy: 0.8938\n",
      "Epoch 78/100\n",
      "100/100 [==============================] - 2s 21ms/step - loss: 0.1748 - accuracy: 0.9594 - val_loss: 0.1477 - val_accuracy: 0.9750\n",
      "Epoch 79/100\n",
      "100/100 [==============================] - 2s 21ms/step - loss: 0.1930 - accuracy: 0.9581 - val_loss: 0.1213 - val_accuracy: 0.9688\n",
      "Epoch 80/100\n",
      "100/100 [==============================] - 2s 21ms/step - loss: 0.1925 - accuracy: 0.9525 - val_loss: 0.1778 - val_accuracy: 0.9500\n",
      "Epoch 81/100\n",
      "100/100 [==============================] - 2s 22ms/step - loss: 0.1895 - accuracy: 0.9600 - val_loss: 0.2233 - val_accuracy: 0.9375\n",
      "Epoch 82/100\n",
      "100/100 [==============================] - 2s 22ms/step - loss: 0.1839 - accuracy: 0.9638 - val_loss: 0.2494 - val_accuracy: 0.9187\n",
      "Epoch 83/100\n",
      "100/100 [==============================] - 2s 22ms/step - loss: 0.2116 - accuracy: 0.9513 - val_loss: 0.3972 - val_accuracy: 0.8938\n",
      "Epoch 84/100\n",
      "100/100 [==============================] - 2s 21ms/step - loss: 0.1765 - accuracy: 0.9619 - val_loss: 0.1016 - val_accuracy: 0.9812\n",
      "Epoch 85/100\n",
      "100/100 [==============================] - 2s 21ms/step - loss: 0.1785 - accuracy: 0.9588 - val_loss: 0.1416 - val_accuracy: 0.9688\n",
      "Epoch 86/100\n",
      "100/100 [==============================] - 2s 21ms/step - loss: 0.1853 - accuracy: 0.9613 - val_loss: 0.1438 - val_accuracy: 0.9688\n",
      "Epoch 87/100\n",
      "100/100 [==============================] - 2s 21ms/step - loss: 0.1700 - accuracy: 0.9631 - val_loss: 0.1080 - val_accuracy: 0.9812\n",
      "Epoch 88/100\n",
      "100/100 [==============================] - 2s 22ms/step - loss: 0.1762 - accuracy: 0.9600 - val_loss: 0.2347 - val_accuracy: 0.9438\n",
      "Epoch 89/100\n",
      "100/100 [==============================] - 2s 22ms/step - loss: 0.1627 - accuracy: 0.9613 - val_loss: 0.1072 - val_accuracy: 0.9812\n",
      "Epoch 90/100\n",
      "100/100 [==============================] - 2s 21ms/step - loss: 0.1668 - accuracy: 0.9650 - val_loss: 0.1470 - val_accuracy: 0.9688\n",
      "Epoch 91/100\n",
      "100/100 [==============================] - 2s 22ms/step - loss: 0.1898 - accuracy: 0.9613 - val_loss: 0.0897 - val_accuracy: 0.9937\n",
      "Epoch 92/100\n",
      "100/100 [==============================] - 2s 22ms/step - loss: 0.1747 - accuracy: 0.9606 - val_loss: 0.1315 - val_accuracy: 0.9625\n",
      "Epoch 93/100\n",
      "100/100 [==============================] - 2s 21ms/step - loss: 0.1854 - accuracy: 0.9563 - val_loss: 0.1924 - val_accuracy: 0.9438\n",
      "Epoch 94/100\n",
      "100/100 [==============================] - 2s 21ms/step - loss: 0.1567 - accuracy: 0.9706 - val_loss: 0.1225 - val_accuracy: 0.9875\n",
      "Epoch 95/100\n",
      "100/100 [==============================] - 2s 22ms/step - loss: 0.1893 - accuracy: 0.9556 - val_loss: 0.0800 - val_accuracy: 0.9937\n",
      "Epoch 96/100\n",
      "100/100 [==============================] - 2s 21ms/step - loss: 0.1758 - accuracy: 0.9619 - val_loss: 0.1724 - val_accuracy: 0.9625\n",
      "Epoch 97/100\n",
      "100/100 [==============================] - 2s 22ms/step - loss: 0.1761 - accuracy: 0.9581 - val_loss: 0.1577 - val_accuracy: 0.9563\n",
      "Epoch 98/100\n",
      "100/100 [==============================] - 2s 22ms/step - loss: 0.2001 - accuracy: 0.9538 - val_loss: 0.1244 - val_accuracy: 0.9750\n",
      "Epoch 99/100\n",
      "100/100 [==============================] - 2s 21ms/step - loss: 0.1668 - accuracy: 0.9663 - val_loss: 0.1480 - val_accuracy: 0.9688\n",
      "Epoch 100/100\n",
      "100/100 [==============================] - 2s 21ms/step - loss: 0.1770 - accuracy: 0.9575 - val_loss: 0.2938 - val_accuracy: 0.9187\n"
     ]
    }
   ],
   "source": [
    "callback = tf.keras.callbacks.ModelCheckpoint(\n",
    "                                                filepath='../Data/weights.h5',\n",
    "                                                save_weights_only=True,\n",
    "                                                monitor='val_accuracy',\n",
    "                                                mode='max',\n",
    "                                                save_best_only=True)\n",
    "\n",
    "model.fit(train_generator,\n",
    "          steps_per_epoch=100,\n",
    "          epochs=100,\n",
    "          callbacks=callback,\n",
    "          validation_data=(validation_generator),\n",
    "          validation_steps=10)\n",
    "          \n",
    "model.load_weights('../Data/weights.h5')"
   ]
  },
  {
   "cell_type": "code",
   "execution_count": 8,
   "metadata": {},
   "outputs": [
    {
     "name": "stdout",
     "output_type": "stream",
     "text": [
      "1/1 [==============================] - 0s 26ms/step\n"
     ]
    },
    {
     "data": {
      "image/png": "[encoded data removed]",
      "text/plain": [
       "<Figure size 432x432 with 9 Axes>"
      ]
     },
     "metadata": {},
     "output_type": "display_data"
    }
   ],
   "source": [
    "images = np.array([plt.imread(f'../Data/expo/000{i}.jpg') for i in range(1,10)])\n",
    "predict = model.predict(images)\n",
    "class_lookup = {v: k for k, v in train_generator.class_indices.items()}\n",
    "labels = [class_lookup[i] for i in predict.argmax(axis=-1)]\n",
    "fig, axes = plt.subplots(len(labels), figsize=(6,6))\n",
    "for ax, im, lab in zip(axes,images,labels):\n",
    "    ax.imshow(im)\n",
    "    ax.set(title = f'Prediction: {lab}', xticks =[], yticks =[])\n",
    "fig.tight_layout()\n",
    "plt.show(); "
   ]
  }
 ],
 "metadata": {
  "kernelspec": {
   "display_name": "Python 3.9.7 64-bit",
   "language": "python",
   "name": "python3"
  },
  "language_info": {
   "codemirror_mode": {
    "name": "ipython",
    "version": 3
   },
   "file_extension": ".py",
   "mimetype": "text/x-python",
   "name": "python",
   "nbconvert_exporter": "python",
   "pygments_lexer": "ipython3",
   "version": "3.9.7"
  },
  "orig_nbformat": 4,
  "vscode": {
   "interpreter": {
    "hash": "e17eab0df9e3307548a5c6f41d73e01b4dc6a359441bcee24f0d97b016c3af62"
   }
  }
 },
 "nbformat": 4,
 "nbformat_minor": 2
}
